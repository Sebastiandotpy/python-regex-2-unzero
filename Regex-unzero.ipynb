{
 "cells": [
  {
   "cell_type": "code",
   "execution_count": 4,
   "metadata": {},
   "outputs": [
    {
     "name": "stdout",
     "output_type": "stream",
     "text": [
      "Original: 0023.07623070    Modified: 23.0762307\n",
      "Original: hello world      Modified: hello world\n",
      "Original: 01230            Modified: 1230\n"
     ]
    }
   ],
   "source": [
    "def remove_leading_trailing_zeros(input_str):\n",
    "    \"\"\"\n",
    "    Removes leading and trailing zeros from a number string.\n",
    "\n",
    "    Args:\n",
    "        input_str (str): The input string.\n",
    "\n",
    "    Returns:\n",
    "        str: The modified string with leading and trailing zeros removed.\n",
    "    \"\"\"\n",
    "    modified_str = input_str.lstrip('0').rstrip('.')\n",
    "\n",
    "    if '.' in modified_str:\n",
    "        modified_str = modified_str.rstrip('0').rstrip('.')\n",
    "\n",
    "    return modified_str\n",
    "\n",
    "# Testing the function with example inputs\n",
    "input1 = \"0023.07623070\"\n",
    "input2 = \"hello world\"\n",
    "input3 = \"01230\"\n",
    "\n",
    "output1 = remove_leading_trailing_zeros(input1)\n",
    "output2 = remove_leading_trailing_zeros(input2)\n",
    "output3 = remove_leading_trailing_zeros(input3)\n",
    "\n",
    "# Print the original input and the modified output with proper formatting\n",
    "print(f\"Original: {input1:<15}  Modified: {output1}\")\n",
    "print(f\"Original: {input2:<15}  Modified: {output2}\")\n",
    "print(f\"Original: {input3:<15}  Modified: {output3}\")"
   ]
  }
 ],
 "metadata": {
  "kernelspec": {
   "display_name": "Python 3",
   "language": "python",
   "name": "python3"
  },
  "language_info": {
   "codemirror_mode": {
    "name": "ipython",
    "version": 3
   },
   "file_extension": ".py",
   "mimetype": "text/x-python",
   "name": "python",
   "nbconvert_exporter": "python",
   "pygments_lexer": "ipython3",
   "version": "3.11.3"
  },
  "orig_nbformat": 4
 },
 "nbformat": 4,
 "nbformat_minor": 2
}
